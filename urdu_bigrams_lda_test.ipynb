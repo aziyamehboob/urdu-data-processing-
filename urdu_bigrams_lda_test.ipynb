{
 "cells": [
  {
   "cell_type": "markdown",
   "metadata": {},
   "source": [
    "## Processing Urdu text with and without bi-grams\n",
    "\n"
   ]
  },
  {
   "cell_type": "code",
   "execution_count": 2,
   "metadata": {},
   "outputs": [
    {
     "name": "stdout",
     "output_type": "stream",
     "text": [
      "عالمی شہرت یافتہ سماجی کارکن عبدالستار ایدھی کی پہلی برسی کے موقع پر نوجوان مصورہ امینہ انصاری نے ان کی یاد میں ایک پینٹنگ بنائی ہے جس کا مقصد ایدھی صاحب کو خراجِ عقیدت پیش کرنا اور ایدھی فاؤنڈیشن کے لیے آگاہی پیدا کرنا ہے\n",
      "['عالمی', 'شہرت', 'یافتہ', 'سماجی', 'کارکن', 'عبدالستار', 'ایدھی', 'کی', 'پہلی', 'برسی', 'کے', 'موقع', 'پر', 'نوجوان', 'مصورہ', 'امینہ', 'انصاری', 'نے', 'ان', 'کی', 'یاد', 'میں', 'ایک', 'پینٹنگ', 'بنائی', 'ہے', 'جس', 'کا', 'مقصد', 'ایدھی', 'صاحب', 'کو', 'خراجِ', 'عقیدت', 'پیش', 'کرنا', 'اور', 'ایدھی', 'فاؤنڈیشن', 'کے', 'لیے', 'آگاہی', 'پیدا', 'کرنا', 'ہے']\n"
     ]
    }
   ],
   "source": [
    "s = \"عالمی شہرت یافتہ سماجی کارکن عبدالستار ایدھی کی پہلی برسی کے موقع پر نوجوان مصورہ امینہ انصاری نے ان کی یاد میں ایک پینٹنگ بنائی ہے جس کا مقصد ایدھی صاحب کو خراجِ عقیدت پیش کرنا اور ایدھی فاؤنڈیشن کے لیے آگاہی پیدا کرنا ہے\"\n",
    "print(s)\n",
    "\n",
    "\n",
    "tokens = [t for t in s.split(' ') if t.strip()]\n",
    "print(tokens)"
   ]
  },
  {
   "cell_type": "markdown",
   "metadata": {},
   "source": [
    "At this stage we could remove stop words from the list manually if we wanted"
   ]
  },
  {
   "cell_type": "code",
   "execution_count": 3,
   "metadata": {},
   "outputs": [
    {
     "name": "stdout",
     "output_type": "stream",
     "text": [
      "['عالمی', 'شہرت', 'یافتہ', 'سماجی', 'کارکن', 'عبدالستار', 'ایدھی', 'پہلی', 'برسی', 'موقع', 'نوجوان', 'مصورہ', 'امینہ', 'انصاری', 'یاد', 'میں', 'ایک', 'پینٹنگ', 'بنائی', 'جس', 'مقصد', 'ایدھی', 'صاحب', 'خراجِ', 'عقیدت', 'پیش', 'کرنا', 'اور', 'ایدھی', 'فاؤنڈیشن', 'لیے', 'آگاہی', 'پیدا', 'کرنا']\n"
     ]
    }
   ],
   "source": [
    "stop_words = ['کی', 'کے', 'پر', 'نے', 'ان', 'ہے', 'کا', 'کو']\n",
    "processed_tokens = [t for t in tokens if t not in stop_words]\n",
    "print(processed_tokens)\n"
   ]
  },
  {
   "cell_type": "markdown",
   "metadata": {},
   "source": [
    "At this stage the word خراجِ عقیدت which is a bi-gram can be put as a single string into a copy of the processed_token list. We do this manually now and if bi-grams make a difference then we can do it properly later.\n"
   ]
  },
  {
   "cell_type": "code",
   "execution_count": 4,
   "metadata": {
    "collapsed": true
   },
   "outputs": [],
   "source": [
    "processed_bigramed_tokens = ['عالمی', 'شہرت', 'یافتہ', 'سماجی', 'کارکن', 'عبدالستار', 'ایدھی', 'پہلی', 'برسی', 'موقع', 'نوجوان', 'مصورہ', 'امینہ', 'انصاری', 'یاد', 'میں', 'ایک', 'پینٹنگ', 'بنائی', 'جس', 'مقصد', 'ایدھی', 'صاحب', 'خراجِ عقیدت', 'پیش', 'کرنا', 'اور', 'ایدھی', 'فاؤنڈیشن', 'لیے', 'آگاہی', 'پیدا', 'کرنا']\n"
   ]
  },
  {
   "cell_type": "markdown",
   "metadata": {},
   "source": [
    "Now for lda we have 2 lists from the same document. We can process other documents similarly and make 2 lists out of each (one with and one without bi-grams)."
   ]
  }
 ],
 "metadata": {
  "kernelspec": {
   "display_name": "Python 3",
   "language": "python",
   "name": "python3"
  },
  "language_info": {
   "codemirror_mode": {
    "name": "ipython",
    "version": 3
   },
   "file_extension": ".py",
   "mimetype": "text/x-python",
   "name": "python",
   "nbconvert_exporter": "python",
   "pygments_lexer": "ipython3",
   "version": "3.5.2"
  }
 },
 "nbformat": 4,
 "nbformat_minor": 2
}
